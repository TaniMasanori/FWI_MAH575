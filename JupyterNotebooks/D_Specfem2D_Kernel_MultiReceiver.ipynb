{
 "cells": [
  {
   "cell_type": "markdown",
   "metadata": {},
   "source": [
    "# 2D Kernel with SPECFEM2D - Multiple Receivers\n",
    "By Andrea R.  \n",
    "Utility functions written by Ridvan Orsvuran.  \n",
    "Following file structure as in the Seisflows example (By Bryant Chow)"
   ]
  },
  {
   "cell_type": "code",
   "execution_count": 1,
   "metadata": {},
   "outputs": [],
   "source": [
    "import os\n",
    "import shutil\n",
    "import matplotlib\n",
    "import numpy as np\n",
    "import FunctionsPlotBin\n",
    "import matplotlib.pyplot as plt\n",
    "\n",
    "from UtilityFunctions import read_trace, specfem2D_prep_save_forward, replace_line, save_trace, specfem2D_prep_adjoint, grid\n",
    "from scipy.integrate import simps"
   ]
  },
  {
   "cell_type": "markdown",
   "metadata": {},
   "source": [
    "# Domain: \n",
    "2D:   \n",
    "x-dir = 4000 m   \n",
    "z-dir = 4000 m   \n",
    "\n",
    "### Source location\n",
    "original x:    1000 m     \n",
    "original z:    2000 m  \n",
    "\n",
    "### Output stations locations: \n",
    "Station #1   AAS0001                             \n",
    "original x:    3000 m  \n",
    "original z:    2000 m  \n",
    "\n",
    "Station #2   AAS0002                             \n",
    "original x:    2000 m  \n",
    "original z:    3000 m  \n",
    "\n",
    "Station #3   AAS0003                             \n",
    "original x:    2000 m  \n",
    "original z:    1000 m  \n",
    "\n",
    "### Boundary conditions \n",
    "Type: STACEY_ABSORBING_CONDITIONS  \n",
    "absorbbottom                    = true  \n",
    "absorbright                     = true  \n",
    "absorbtop                       = true  \n",
    "absorbleft                      = true  \n",
    "\n",
    "### Velocity model:\n",
    "\n",
    "#### Initial model:  \n",
    "Model: P (or PI) velocity min,max =    3000 m/s              \n",
    "Model: S velocity min,max         =    1800 m/s        \n",
    "Model: density min,max            =    2700 kg/m3           \n",
    "\n",
    "#### True model (~1% perturbation of the Vs - initial model):   \n",
    "Model: P (or PI) velocity min,max =    3000 m/s                \n",
    "Model: S velocity min,max         =    1820 m/s          \n",
    "Model: density min,max            =    2700 kg/m3      "
   ]
  },
  {
   "cell_type": "markdown",
   "metadata": {},
   "source": [
    "### Set Specfem2D and work directories "
   ]
  },
  {
   "cell_type": "code",
   "metadata": {},
   "outputs": [],
   "source": "specfem2d_path = \"/home/masa/\" # for desktop machine\n#specfem2d_path = \"/home/masan/\" # for laptop \nEXAMPLE = os.path.join(os.getcwd(),\"Examples\", \"DATA_Example01\")\nWORKDIR = os.path.join(os.getcwd(),\"work\")\n\n# Incase we've run this docs page before, delete the working directory before remaking\nif os.path.exists(WORKDIR):\n    shutil.rmtree(WORKDIR)\nos.makedirs(WORKDIR, exist_ok=True)"
  },
  {
   "cell_type": "code",
   "execution_count": 3,
   "metadata": {},
   "outputs": [],
   "source": [
    "# Distribute the necessary file structure of the SPECFEM2D repository that we will reference\n",
    "SPECFEM2D_ORIGINAL = os.path.join(specfem2d_path, \"specfem2d\") \n",
    "SPECFEM2D_BIN_ORIGINAL = os.path.join(SPECFEM2D_ORIGINAL, \"bin\")\n",
    "SPECFEM2D_DATA_ORIGINAL = os.path.join(SPECFEM2D_ORIGINAL, \"DATA\")\n",
    "\n",
    "# The SPECFEM2D working directory that we will create separate from the downloaded repo\n",
    "SPECFEM2D_WORKDIR = os.path.join(WORKDIR, \"ExampleKernelMultiReceiver\")\n",
    "SPECFEM2D_BIN = os.path.join(SPECFEM2D_WORKDIR, \"bin\")\n",
    "SPECFEM2D_DATA = os.path.join(SPECFEM2D_WORKDIR, \"DATA\")\n",
    "SPECFEM2D_OUTPUT = os.path.join(SPECFEM2D_WORKDIR, \"OUTPUT_FILES\")\n",
    "\n",
    "# Pre-defined locations of velocity models we will generate using the solver\n",
    "SPECFEM2D_MODEL_INIT = os.path.join(SPECFEM2D_WORKDIR, \"OUTPUT_FILES_INIT\")\n",
    "SPECFEM2D_MODEL_TRUE = os.path.join(SPECFEM2D_WORKDIR, \"OUTPUT_FILES_TRUE\")"
   ]
  },
  {
   "cell_type": "code",
   "execution_count": 4,
   "metadata": {},
   "outputs": [
    {
     "ename": "FileNotFoundError",
     "evalue": "[Errno 2] No such file or directory: '/home/masan/specfem2d/bin'",
     "output_type": "error",
     "traceback": [
      "\u001b[0;31m---------------------------------------------------------------------------\u001b[0m",
      "\u001b[0;31mFileNotFoundError\u001b[0m                         Traceback (most recent call last)",
      "Cell \u001b[0;32mIn[4], line 2\u001b[0m\n\u001b[1;32m      1\u001b[0m \u001b[38;5;66;03m# Copy the binary files incase we update the source code. These can also be symlinked.\u001b[39;00m\n\u001b[0;32m----> 2\u001b[0m shutil\u001b[38;5;241m.\u001b[39mcopytree(SPECFEM2D_BIN_ORIGINAL, SPECFEM2D_BIN)\n\u001b[1;32m      4\u001b[0m \u001b[38;5;66;03m# Copy the DATA/ directory\u001b[39;00m\n\u001b[1;32m      5\u001b[0m shutil\u001b[38;5;241m.\u001b[39mcopytree(EXAMPLE, SPECFEM2D_DATA)\n",
      "File \u001b[0;32m~/miniconda3/envs/math575/lib/python3.12/shutil.py:598\u001b[0m, in \u001b[0;36mcopytree\u001b[0;34m(src, dst, symlinks, ignore, copy_function, ignore_dangling_symlinks, dirs_exist_ok)\u001b[0m\n\u001b[1;32m    559\u001b[0m \u001b[38;5;250m\u001b[39m\u001b[38;5;124;03m\"\"\"Recursively copy a directory tree and return the destination directory.\u001b[39;00m\n\u001b[1;32m    560\u001b[0m \n\u001b[1;32m    561\u001b[0m \u001b[38;5;124;03mIf exception(s) occur, an Error is raised with a list of reasons.\u001b[39;00m\n\u001b[0;32m   (...)\u001b[0m\n\u001b[1;32m    595\u001b[0m \u001b[38;5;124;03m`src` tree.\u001b[39;00m\n\u001b[1;32m    596\u001b[0m \u001b[38;5;124;03m\"\"\"\u001b[39;00m\n\u001b[1;32m    597\u001b[0m sys\u001b[38;5;241m.\u001b[39maudit(\u001b[38;5;124m\"\u001b[39m\u001b[38;5;124mshutil.copytree\u001b[39m\u001b[38;5;124m\"\u001b[39m, src, dst)\n\u001b[0;32m--> 598\u001b[0m \u001b[38;5;28;01mwith\u001b[39;00m os\u001b[38;5;241m.\u001b[39mscandir(src) \u001b[38;5;28;01mas\u001b[39;00m itr:\n\u001b[1;32m    599\u001b[0m     entries \u001b[38;5;241m=\u001b[39m \u001b[38;5;28mlist\u001b[39m(itr)\n\u001b[1;32m    600\u001b[0m \u001b[38;5;28;01mreturn\u001b[39;00m _copytree(entries\u001b[38;5;241m=\u001b[39mentries, src\u001b[38;5;241m=\u001b[39msrc, dst\u001b[38;5;241m=\u001b[39mdst, symlinks\u001b[38;5;241m=\u001b[39msymlinks,\n\u001b[1;32m    601\u001b[0m                  ignore\u001b[38;5;241m=\u001b[39mignore, copy_function\u001b[38;5;241m=\u001b[39mcopy_function,\n\u001b[1;32m    602\u001b[0m                  ignore_dangling_symlinks\u001b[38;5;241m=\u001b[39mignore_dangling_symlinks,\n\u001b[1;32m    603\u001b[0m                  dirs_exist_ok\u001b[38;5;241m=\u001b[39mdirs_exist_ok)\n",
      "\u001b[0;31mFileNotFoundError\u001b[0m: [Errno 2] No such file or directory: '/home/masan/specfem2d/bin'"
     ]
    }
   ],
   "source": [
    "# Copy the binary files incase we update the source code. These can also be symlinked.\n",
    "shutil.copytree(SPECFEM2D_BIN_ORIGINAL, SPECFEM2D_BIN)\n",
    "\n",
    "# Copy the DATA/ directory\n",
    "shutil.copytree(EXAMPLE, SPECFEM2D_DATA)\n",
    "!pwd\n",
    "!ls"
   ]
  },
  {
   "cell_type": "code",
   "metadata": {},
   "outputs": [],
   "source": "# Create a new STATIONS file with multiple receivers\nstations_content = \"\"\"S0001    AA          3000.0000000        2000.0000000       0.0         0.0\nS0002    AA          2000.0000000        3000.0000000       0.0         0.0\nS0003    AA          2000.0000000        1000.0000000       0.0         0.0\n\"\"\"\n\nwith open(os.path.join(SPECFEM2D_DATA, \"STATIONS\"), \"w\") as f:\n    f.write(stations_content)"
  },
  {
   "cell_type": "markdown",
   "metadata": {},
   "source": [
    "### Generate true model"
   ]
  },
  {
   "cell_type": "code",
   "execution_count": null,
   "metadata": {},
   "outputs": [],
   "source": [
    "os.chdir(SPECFEM2D_DATA)\n",
    "specfem2D_prep_save_forward(\"Par_file\")\n",
    "# Modify the Par_file to increase Initial Vs by ~1% \n",
    "replace_line(\"Par_file\",33,\"P_SV                            = .false. \\n\")\n",
    "replace_line(\"Par_file\",262,'1 1 2700.d0 3000.d0 1820.d0 0 0 9999 9999 0 0 0 0 0 0 \\n')"
   ]
  },
  {
   "cell_type": "code",
   "execution_count": null,
   "metadata": {},
   "outputs": [],
   "source": [
    "# create the OUTPUT_FILES directory before running \n",
    "os.chdir(SPECFEM2D_WORKDIR)\n",
    "if os.path.exists(SPECFEM2D_OUTPUT):\n",
    "    shutil.rmtree(SPECFEM2D_OUTPUT)\n",
    "os.mkdir(SPECFEM2D_OUTPUT)\n",
    "!ls"
   ]
  },
  {
   "cell_type": "code",
   "execution_count": null,
   "metadata": {},
   "outputs": [],
   "source": [
    "os.chdir(SPECFEM2D_WORKDIR)\n",
    "!bin/xmeshfem2D > OUTPUT_FILES/mesher_log.txt\n",
    "!bin/xspecfem2D > OUTPUT_FILES/solver_log.txt\n",
    "\n",
    "# Move the model files (*.bin) into the OUTPUT_FILES directory\n",
    "!mv DATA/*bin OUTPUT_FILES\n",
    "\n",
    "# Make sure we don't overwrite this target model when creating our initial model in the next step\n",
    "!mv OUTPUT_FILES OUTPUT_FILES_TRUE\n",
    "\n",
    "!head OUTPUT_FILES_TRUE/solver_log.txt\n",
    "!tail OUTPUT_FILES_TRUE/solver_log.txt"
   ]
  },
  {
   "cell_type": "code",
   "execution_count": null,
   "metadata": {},
   "outputs": [],
   "source": [
    "x_coords_file = 'OUTPUT_FILES_TRUE/proc000000_x.bin'\n",
    "z_coords_file = 'OUTPUT_FILES_TRUE/proc000000_z.bin'\n",
    "Vs_true       = 'OUTPUT_FILES_TRUE/proc000000_vs.bin'\n",
    "\n",
    "# Plot \n",
    "FunctionsPlotBin.plotbin(x_coords_file,z_coords_file,Vs_true,SPECFEM2D_WORKDIR+'/Vs_true','Vs_true=m/s')"
   ]
  },
  {
   "cell_type": "markdown",
   "metadata": {},
   "source": [
    "### Generate initial model"
   ]
  },
  {
   "cell_type": "code",
   "execution_count": null,
   "metadata": {},
   "outputs": [],
   "source": [
    "os.chdir(SPECFEM2D_DATA)\n",
    "replace_line(\"Par_file\",262,'1 1 2700.d0 3000.d0 1800.d0 0 0 9999 9999 0 0 0 0 0 0 \\n')"
   ]
  },
  {
   "cell_type": "code",
   "execution_count": null,
   "metadata": {},
   "outputs": [],
   "source": [
    "# create the OUTPUT_FILES directory before running \n",
    "os.chdir(SPECFEM2D_WORKDIR)\n",
    "if os.path.exists(SPECFEM2D_OUTPUT):\n",
    "    shutil.rmtree(SPECFEM2D_OUTPUT)\n",
    "os.mkdir(SPECFEM2D_OUTPUT)\n",
    "!ls"
   ]
  },
  {
   "cell_type": "code",
   "execution_count": null,
   "metadata": {},
   "outputs": [],
   "source": [
    "os.chdir(SPECFEM2D_WORKDIR)\n",
    "!bin/xmeshfem2D > OUTPUT_FILES/mesher_log.txt\n",
    "!bin/xspecfem2D > OUTPUT_FILES/solver_log.txt\n",
    "\n",
    "# Move the model files (*.bin) into the OUTPUT_FILES directory\n",
    "# The binary files of the velocity models are stored in DATA after running xspecfem2D\n",
    "!mv DATA/*bin OUTPUT_FILES\n",
    "\n",
    "# Store output files of initial model\n",
    "!mv OUTPUT_FILES OUTPUT_FILES_INIT\n",
    "\n",
    "!head OUTPUT_FILES_INIT/solver_log.txt\n",
    "!tail OUTPUT_FILES_INIT/solver_log.txt"
   ]
  },
  {
   "cell_type": "code",
   "execution_count": null,
   "metadata": {},
   "outputs": [],
   "source": [
    "x_coords_file = 'OUTPUT_FILES_INIT/proc000000_x.bin'\n",
    "z_coords_file = 'OUTPUT_FILES_INIT/proc000000_z.bin'\n",
    "Vs_true       = 'OUTPUT_FILES_INIT/proc000000_vs.bin'\n",
    "\n",
    "# Plot \n",
    "FunctionsPlotBin.plotbin(x_coords_file,z_coords_file,Vs_true,SPECFEM2D_WORKDIR+'/Vs_init','Vs_init=m/s')"
   ]
  },
  {
   "cell_type": "markdown",
   "metadata": {},
   "source": [
    "### 3. Plot synthetic seismograms for all receivers"
   ]
  },
  {
   "cell_type": "code",
   "execution_count": null,
   "metadata": {},
   "outputs": [],
   "source": [
    "os.chdir(SPECFEM2D_WORKDIR)\n",
    "station_ids = [\"S0001\", \"S0002\", \"S0003\"]\n",
    "\n",
    "fig, axes = plt.subplots(len(station_ids), 1, figsize=(20, 12), sharex=True)\n",
    "matplotlib.rcParams.update({'font.size': 14})\n",
    "\n",
    "for i, station_id in enumerate(station_ids):\n",
    "    # Read synthetic seismogram\n",
    "    obsd = read_trace(os.path.join(\"OUTPUT_FILES_TRUE\",f\"AA.{station_id}.BXY.semd\"))\n",
    "    synt = read_trace(os.path.join(\"OUTPUT_FILES_INIT\",f\"AA.{station_id}.BXY.semd\"))\n",
    "\n",
    "    # Process data\n",
    "    obsd.detrend(\"simple\")\n",
    "    obsd.taper(0.05)\n",
    "    obsd.filter(\"bandpass\", freqmin=0.01, freqmax=20)\n",
    "\n",
    "    synt.detrend(\"simple\")\n",
    "    synt.taper(0.05)\n",
    "    synt.filter(\"bandpass\", freqmin=0.01, freqmax=20)\n",
    "    \n",
    "    # Plot\n",
    "    axes[i].plot(obsd.times()+obsd.stats.b, obsd.data, \"b\", label=\"Obsd\")\n",
    "    axes[i].plot(synt.times()+synt.stats.b, synt.data, \"r\", label=\"Synt\")\n",
    "    axes[i].set_xlim(synt.stats.b, synt.times()[-1]+synt.stats.b)\n",
    "    axes[i].legend(frameon=False)\n",
    "    axes[i].set_ylabel(f\"Station {station_id}\\nDisplacement (m)\")\n",
    "    axes[i].tick_params(axis='both',which='major',labelsize=14)\n",
    "\n",
    "axes[-1].set_xlabel(\"Time (s)\")\n",
    "fig.suptitle(\"Comparison of Synthetic and Observed Seismograms\", fontsize=16)\n",
    "plt.tight_layout()"
   ]
  },
  {
   "cell_type": "markdown",
   "metadata": {},
   "source": [
    "### Misfit Calculation and Adjoint Source\n",
    "For one seismogram, waveform misfit is\n",
    "\n",
    "$$ \\chi = \\frac{1}{2} \\int [d(t)-s(t)]^2 dt~, $$\n",
    "\n",
    "\n",
    "and waveform adjoint source is\n",
    "\n",
    "$$  f^\\dagger (t) = s(t) - d(t)~,$$\n",
    "\n",
    "where $s(t)$ is the synthetic, $d(t)$ is the observed seismograms."
   ]
  },
  {
   "cell_type": "code",
   "execution_count": null,
   "metadata": {},
   "outputs": [],
   "source": [
    "os.chdir(SPECFEM2D_WORKDIR)\n",
    "station_ids = [\"S0001\", \"S0002\", \"S0003\"]\n",
    "total_misfit = 0\n",
    "\n",
    "# Initialize storage for adjoint sources\n",
    "adjoint_sources = {}\n",
    "\n",
    "for station_id in station_ids:\n",
    "    # Read synthetic seismogram\n",
    "    obsd = read_trace(os.path.join(\"OUTPUT_FILES_TRUE\",f\"AA.{station_id}.BXY.semd\"))\n",
    "    synt = read_trace(os.path.join(\"OUTPUT_FILES_INIT\",f\"AA.{station_id}.BXY.semd\"))\n",
    "\n",
    "    # Process data\n",
    "    obsd.detrend(\"simple\")\n",
    "    obsd.taper(0.05)\n",
    "    obsd.filter(\"bandpass\", freqmin=0.01, freqmax=20)\n",
    "\n",
    "    synt.detrend(\"simple\")\n",
    "    synt.taper(0.05)\n",
    "    synt.filter(\"bandpass\", freqmin=0.01, freqmax=20)\n",
    "    \n",
    "    # Misfit calculation\n",
    "    misfit = simps((obsd.data-synt.data)**2, dx=obsd.stats.delta)\n",
    "    total_misfit += misfit\n",
    "    \n",
    "    # Adjoint Source\n",
    "    adj = synt.copy()\n",
    "    adj.data = synt.data - obsd.data\n",
    "\n",
    "    # Process adjoint source\n",
    "    adj.detrend(\"simple\")\n",
    "    adj.taper(0.05)\n",
    "    adj.filter(\"bandpass\", freqmin=0.01, freqmax=20)\n",
    "    \n",
    "    # Store for later use\n",
    "    adjoint_sources[station_id] = adj\n",
    "    \n",
    "print(f\"Total Misfit: {total_misfit:.6f}\")"
   ]
  },
  {
   "cell_type": "code",
   "execution_count": null,
   "metadata": {},
   "outputs": [],
   "source": [
    "# Plot all adjoint sources\n",
    "fig, axes = plt.subplots(len(station_ids), 1, figsize=(20, 12), sharex=True)\n",
    "matplotlib.rcParams.update({'font.size': 14})\n",
    "\n",
    "for i, station_id in enumerate(station_ids):\n",
    "    adj = adjoint_sources[station_id]\n",
    "    axes[i].plot(adj.times()+adj.stats.b, adj.data, \"g\")\n",
    "    axes[i].set_ylabel(f\"Station {station_id}\\nAdjoint Source\")\n",
    "    axes[i].tick_params(axis='both',which='major',labelsize=14)\n",
    "\n",
    "axes[-1].set_xlabel(\"Time (s)\")\n",
    "fig.suptitle(\"Adjoint Sources for All Stations\", fontsize=16)\n",
    "plt.tight_layout()"
   ]
  },
  {
   "cell_type": "markdown",
   "metadata": {},
   "source": [
    "### Adjoint simulation"
   ]
  },
  {
   "cell_type": "code",
   "execution_count": null,
   "metadata": {},
   "outputs": [],
   "source": [
    "os.chdir(SPECFEM2D_WORKDIR)\n",
    "# Create SEM directory for adjoint sources\n",
    "os.makedirs(\"SEM\", exist_ok=True)\n",
    "\n",
    "# Save all adjoint sources\n",
    "for station_id, adj in adjoint_sources.items():\n",
    "    save_trace(adj, f\"SEM/AA.{station_id}.BXY.adj\")"
   ]
  },
  {
   "cell_type": "markdown",
   "metadata": {},
   "source": [
    "For adjoint simulation, following `DATA/Par_file` needs be set\n",
    "\n",
    "```toml\n",
    "SIMULATION_TYPE                 = 3\n",
    "# save the last frame, needed for adjoint simulation\n",
    "SAVE_FORWARD                    = .false.\n",
    "```\n",
    "\n",
    "`specfem2D_prep_adjoint` function can be used for this purpose."
   ]
  },
  {
   "cell_type": "code",
   "execution_count": null,
   "metadata": {},
   "outputs": [],
   "source": [
    "# Prepare Par_file\n",
    "os.chdir(SPECFEM2D_DATA)\n",
    "specfem2D_prep_adjoint(\"Par_file\")"
   ]
  },
  {
   "cell_type": "code",
   "execution_count": null,
   "metadata": {},
   "outputs": [],
   "source": [
    "# create the OUTPUT_FILES directory before running and copy \n",
    "# results of OUTPUT_FILES_INIT to the new created OUTPUT_FILES, this is needed\n",
    "# for the adjoint simulation because we saved the last frame in the \n",
    "# forward simulation of the initial model\n",
    "\n",
    "os.chdir(SPECFEM2D_WORKDIR)\n",
    "if os.path.exists(SPECFEM2D_OUTPUT):\n",
    "    shutil.rmtree(SPECFEM2D_OUTPUT)\n",
    "os.mkdir(SPECFEM2D_OUTPUT)\n",
    "!cp OUTPUT_FILES_INIT/* OUTPUT_FILES\n",
    "!ls"
   ]
  },
  {
   "cell_type": "code",
   "execution_count": null,
   "metadata": {},
   "outputs": [],
   "source": [
    "os.chdir(SPECFEM2D_WORKDIR)\n",
    "!bin/xmeshfem2D > OUTPUT_FILES/mesher_log.txt\n",
    "!bin/xspecfem2D > OUTPUT_FILES/solver_log.txt\n",
    "\n",
    "# Move the model files (*.bin) into the OUTPUT_FILES directory\n",
    "# The binary files of the velocity models are stored in DATA after running xspecfem2D\n",
    "!mv DATA/*bin OUTPUT_FILES\n",
    "\n",
    "# Make sure we don't overwrite output files \n",
    "!mv OUTPUT_FILES OUTPUT_FILES_ADJ\n",
    "\n",
    "!head OUTPUT_FILES_ADJ/solver_log.txt\n",
    "!tail OUTPUT_FILES_ADJ/solver_log.txt"
   ]
  },
  {
   "cell_type": "markdown",
   "metadata": {},
   "source": [
    "### Plotting the Kernels\n",
    "\n",
    "`./OUTPUT_FILES/proc000000_rhop_alpha_beta_kernel.dat` file holds the kernel data.\n",
    "\n",
    "It is a text file contains 5 columns: `x`, `z`, `rhop`, `alpha`, `beta`."
   ]
  },
  {
   "cell_type": "code",
   "execution_count": null,
   "metadata": {},
   "outputs": [],
   "source": [
    "data = np.loadtxt(\"./OUTPUT_FILES_ADJ/proc000000_rhop_alpha_beta_kernel.dat\")\n",
    "\n",
    "# first column: x\n",
    "x = data[:, 0]\n",
    "# second column: z\n",
    "z = data[:, 1]\n",
    "# fifth column: beta_kernel\n",
    "beta = data[:, 4]\n",
    "\n",
    "# For plotting, you can check: specfem2D/utils/Visualization/plot_kernel.py\n",
    "vmax = 5e-9  # Increased to accommodate multiple receivers\n",
    "X, Z, BETA = grid(x, z, beta)\n",
    "\n",
    "fig, ax = plt.subplots(figsize=(10, 10))\n",
    "im = ax.imshow(BETA, vmax=vmax, vmin=-vmax, extent=[x.min(), x.max(), z.min(), z.max()],\n",
    "               cmap=\"seismic_r\")\n",
    "ax.set_xlabel(\"X (m)\")\n",
    "ax.set_ylabel(\"Z (m)\")\n",
    "ax.set_title(\"Beta Kernel with Multiple Receivers\")\n",
    "\n",
    "# Plot source \n",
    "ax.scatter(1000, 2000, 1000, marker=\"*\", color=\"black\", edgecolor=\"white\", label=\"Source\")\n",
    "\n",
    "# Plot all stations\n",
    "ax.scatter(3000, 2000, 450, marker=\"v\", color=\"blue\", edgecolor=\"white\", label=\"Station 1\")\n",
    "ax.scatter(2000, 3000, 450, marker=\"v\", color=\"green\", edgecolor=\"white\", label=\"Station 2\")\n",
    "ax.scatter(2000, 1000, 450, marker=\"v\", color=\"red\", edgecolor=\"white\", label=\"Station 3\")\n",
    "\n",
    "plt.colorbar(im, ax=ax)\n",
    "ax.legend()\n",
    "ax.tick_params(axis='both',which='major',labelsize=14)\n",
    "matplotlib.rcParams.update({'font.size': 14})"
   ]
  },
  {
   "cell_type": "markdown",
   "metadata": {},
   "source": [
    "### Compare with Single Receiver Kernel\n",
    "\n",
    "Let's run the same model but with just one receiver to see the difference in kernels."
   ]
  },
  {
   "cell_type": "code",
   "execution_count": null,
   "metadata": {},
   "outputs": [],
   "source": [
    "# Create a figure to compare kernels\n",
    "fig, axes = plt.subplots(2, 2, figsize=(16, 16))\n",
    "axes = axes.flatten()\n",
    "\n",
    "# Plot the multi-receiver kernel\n",
    "im0 = axes[0].imshow(BETA, vmax=vmax, vmin=-vmax, extent=[x.min(), x.max(), z.min(), z.max()],\n",
    "               cmap=\"seismic_r\")\n",
    "axes[0].set_title(\"Kernel with All Three Receivers\")\n",
    "axes[0].scatter(1000, 2000, 200, marker=\"*\", color=\"black\", edgecolor=\"white\")\n",
    "axes[0].scatter(3000, 2000, 100, marker=\"v\", color=\"blue\", edgecolor=\"white\")\n",
    "axes[0].scatter(2000, 3000, 100, marker=\"v\", color=\"green\", edgecolor=\"white\")\n",
    "axes[0].scatter(2000, 1000, 100, marker=\"v\", color=\"red\", edgecolor=\"white\")\n",
    "plt.colorbar(im0, ax=axes[0])\n",
    "\n",
    "# Now add placeholders for individual kernels\n",
    "# These would normally be calculated by running separate adjoint simulations\n",
    "# In a real notebook, you'd have actual data for these\n",
    "for i, (ax, title, pos) in enumerate(zip(\n",
    "    axes[1:], \n",
    "    [\"Kernel with only Station 1\", \"Kernel with only Station 2\", \"Kernel with only Station 3\"],\n",
    "    [(3000, 2000), (2000, 3000), (2000, 1000)])):\n",
    "    \n",
    "    # This is a placeholder - normally you'd load actual kernel data\n",
    "    ax.text(0.5, 0.5, \"Placeholder - would contain\\nkernel from individual station\", \n",
    "            ha='center', va='center', transform=ax.transAxes, fontsize=14)\n",
    "    \n",
    "    ax.set_title(title)\n",
    "    ax.scatter(1000, 2000, 200, marker=\"*\", color=\"black\", edgecolor=\"white\")\n",
    "    \n",
    "    # Highlight the station for this kernel\n",
    "    station_color = [\"blue\", \"green\", \"red\"][i]\n",
    "    ax.scatter(pos[0], pos[1], 100, marker=\"v\", color=station_color, edgecolor=\"white\")\n",
    "    \n",
    "    # Set the axes limits to match the main plot\n",
    "    ax.set_xlim(x.min(), x.max())\n",
    "    ax.set_ylim(z.min(), z.max())\n",
    "\n",
    "plt.tight_layout()\n",
    "fig.suptitle(\"Comparison of Multi-Receiver and Single-Receiver Kernels\", fontsize=16, y=1.02)"
   ]
  }
 ],
 "metadata": {
  "kernelspec": {
   "display_name": "math575",
   "language": "python",
   "name": "python3"
  },
  "language_info": {
   "codemirror_mode": {
    "name": "ipython",
    "version": 3
   },
   "file_extension": ".py",
   "mimetype": "text/x-python",
   "name": "python",
   "nbconvert_exporter": "python",
   "pygments_lexer": "ipython3",
   "version": "3.12.4"
  }
 },
 "nbformat": 4,
 "nbformat_minor": 4
}